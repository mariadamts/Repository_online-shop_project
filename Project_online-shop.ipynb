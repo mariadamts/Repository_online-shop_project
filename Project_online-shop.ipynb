{
 "cells": [
  {
   "cell_type": "markdown",
   "id": "82abf90d",
   "metadata": {},
   "source": [
    "Тема: Влияние каналов продаж, новостных рассылок и купонов на число продаж на одного покупателе в выбранном Онлайн-магазине. "
   ]
  },
  {
   "cell_type": "markdown",
   "id": "c9251277",
   "metadata": {},
   "source": [
    "Поскольку мне интересен рынок онлайн ретейла, и я планирую создавать бренд эко-френдли одежды, мне было бы полезно проанализироать данные именно по онлайн магазину. Наиболее интересным показателем зачастую оказывается Av. Payment Count or LifeTime - число покупок на 1-го платящего (в выбранных данных это N-Purchases), так как при создании финмодели именно он играет большую роль (чаще издержки наибольшие для привлечения именно пользователя) и повышение числа покупок на платящего позволит вывести модель в плюс. \n",
    "\n",
    "Число покупок, которое покупатель совершит, в свою очередь, может зависить от различных факторов, например, продвижение в определенном браузере, эффективности рассылки или выданные купоны на скидку, их в данных будут отражать данные в колонках Browser, Newsletter, Voucher. \n",
    "\n",
    "Сделавв EDA, можно будет увидеть существование закономерностей между числом покупок одного покупателя и вышеописанными признаками, которые по предположению влияют на это. На 5-м шаге проекта определю, совершается ли наибольшее количество покупок в выходные дни/праздники. На 6-м шаге поставлю гипотезы о математическом ожидании покупок одного покупателя, а на 7 попробую предсказать.\n",
    "\n",
    "Данные возьму с портала Kaggle: https://www.kaggle.com/datasets/onlineretailshop/online-shop-customer-sales-data"
   ]
  },
  {
   "cell_type": "markdown",
   "id": "c2a66ca1",
   "metadata": {},
   "source": [
    "Customer_id = unique customer id\n",
    "\n",
    "Age = customer's age\n",
    "\n",
    "Gender = 0: Male, 1: Female\n",
    "\n",
    "Revenue_Total = total sales by customer\n",
    "\n",
    "N_Purchases = number of purchases\n",
    "\n",
    "Purchase_DATE = date latest purchase, dd.mm.yy\n",
    "\n",
    "Purchase_VALUE = latest purchase in €\n",
    "\n",
    "Pay_Method = 0: Digital Wallets, 1: Card, 2: PayPal, 3: Other\n",
    "\n",
    "Time_Spent = time spent (in sec) on website\n",
    "\n",
    "Browser = 0: Chrome, 1: Safari, 2: Edge, 3: Other\n",
    "\n",
    "Newsletter = 0: not subscribed, 1: subscribed\n",
    "\n",
    "Voucher = 0: not used, 1: used"
   ]
  },
  {
   "cell_type": "markdown",
   "id": "0c8da163",
   "metadata": {},
   "source": [
    "Приступим к описанию данных, посмотрим, что в них содержится"
   ]
  },
  {
   "cell_type": "code",
   "execution_count": 2,
   "id": "86cd7f44",
   "metadata": {},
   "outputs": [],
   "source": [
    "import pandas as pd\n",
    "import numpy as np\n",
    "import seaborn as sns"
   ]
  },
  {
   "cell_type": "code",
   "execution_count": 4,
   "id": "e17c257c",
   "metadata": {},
   "outputs": [],
   "source": [
    "df = pd.read_csv('Online_Shop _Customer_Sales_Data.csv')"
   ]
  },
  {
   "cell_type": "code",
   "execution_count": 5,
   "id": "2591854c",
   "metadata": {},
   "outputs": [
    {
     "data": {
      "text/plain": [
       "(65796, 12)"
      ]
     },
     "execution_count": 5,
     "metadata": {},
     "output_type": "execute_result"
    }
   ],
   "source": [
    "df.shape"
   ]
  },
  {
   "cell_type": "code",
   "execution_count": 6,
   "id": "39367b24",
   "metadata": {},
   "outputs": [
    {
     "data": {
      "text/plain": [
       "65796"
      ]
     },
     "execution_count": 6,
     "metadata": {},
     "output_type": "execute_result"
    }
   ],
   "source": [
    "df['Customer_id'].nunique()"
   ]
  },
  {
   "cell_type": "code",
   "execution_count": 7,
   "id": "6ead3a12",
   "metadata": {},
   "outputs": [
    {
     "data": {
      "text/html": [
       "<div>\n",
       "<style scoped>\n",
       "    .dataframe tbody tr th:only-of-type {\n",
       "        vertical-align: middle;\n",
       "    }\n",
       "\n",
       "    .dataframe tbody tr th {\n",
       "        vertical-align: top;\n",
       "    }\n",
       "\n",
       "    .dataframe thead th {\n",
       "        text-align: right;\n",
       "    }\n",
       "</style>\n",
       "<table border=\"1\" class=\"dataframe\">\n",
       "  <thead>\n",
       "    <tr style=\"text-align: right;\">\n",
       "      <th></th>\n",
       "      <th>Customer_id</th>\n",
       "      <th>Age</th>\n",
       "      <th>Gender</th>\n",
       "      <th>Revenue_Total</th>\n",
       "      <th>N_Purchases</th>\n",
       "      <th>Purchase_DATE</th>\n",
       "      <th>Purchase_VALUE</th>\n",
       "      <th>Pay_Method</th>\n",
       "      <th>Time_Spent</th>\n",
       "      <th>Browser</th>\n",
       "      <th>Newsletter</th>\n",
       "      <th>Voucher</th>\n",
       "    </tr>\n",
       "  </thead>\n",
       "  <tbody>\n",
       "    <tr>\n",
       "      <th>0</th>\n",
       "      <td>504308</td>\n",
       "      <td>53</td>\n",
       "      <td>0</td>\n",
       "      <td>45.3</td>\n",
       "      <td>2</td>\n",
       "      <td>22.06.21</td>\n",
       "      <td>24.915</td>\n",
       "      <td>1</td>\n",
       "      <td>885</td>\n",
       "      <td>0</td>\n",
       "      <td>0</td>\n",
       "      <td>0</td>\n",
       "    </tr>\n",
       "    <tr>\n",
       "      <th>1</th>\n",
       "      <td>504309</td>\n",
       "      <td>18</td>\n",
       "      <td>1</td>\n",
       "      <td>36.2</td>\n",
       "      <td>3</td>\n",
       "      <td>10.12.21</td>\n",
       "      <td>2.896</td>\n",
       "      <td>2</td>\n",
       "      <td>656</td>\n",
       "      <td>0</td>\n",
       "      <td>0</td>\n",
       "      <td>1</td>\n",
       "    </tr>\n",
       "    <tr>\n",
       "      <th>2</th>\n",
       "      <td>504310</td>\n",
       "      <td>52</td>\n",
       "      <td>1</td>\n",
       "      <td>10.6</td>\n",
       "      <td>1</td>\n",
       "      <td>14.03.21</td>\n",
       "      <td>10.600</td>\n",
       "      <td>0</td>\n",
       "      <td>761</td>\n",
       "      <td>0</td>\n",
       "      <td>1</td>\n",
       "      <td>0</td>\n",
       "    </tr>\n",
       "    <tr>\n",
       "      <th>3</th>\n",
       "      <td>504311</td>\n",
       "      <td>29</td>\n",
       "      <td>0</td>\n",
       "      <td>54.1</td>\n",
       "      <td>5</td>\n",
       "      <td>25.10.21</td>\n",
       "      <td>43.280</td>\n",
       "      <td>1</td>\n",
       "      <td>906</td>\n",
       "      <td>0</td>\n",
       "      <td>1</td>\n",
       "      <td>0</td>\n",
       "    </tr>\n",
       "    <tr>\n",
       "      <th>4</th>\n",
       "      <td>504312</td>\n",
       "      <td>21</td>\n",
       "      <td>1</td>\n",
       "      <td>56.9</td>\n",
       "      <td>1</td>\n",
       "      <td>14.09.21</td>\n",
       "      <td>56.900</td>\n",
       "      <td>1</td>\n",
       "      <td>605</td>\n",
       "      <td>0</td>\n",
       "      <td>1</td>\n",
       "      <td>0</td>\n",
       "    </tr>\n",
       "  </tbody>\n",
       "</table>\n",
       "</div>"
      ],
      "text/plain": [
       "   Customer_id  Age  Gender  Revenue_Total  N_Purchases Purchase_DATE  \\\n",
       "0       504308   53       0           45.3            2      22.06.21   \n",
       "1       504309   18       1           36.2            3      10.12.21   \n",
       "2       504310   52       1           10.6            1      14.03.21   \n",
       "3       504311   29       0           54.1            5      25.10.21   \n",
       "4       504312   21       1           56.9            1      14.09.21   \n",
       "\n",
       "   Purchase_VALUE  Pay_Method  Time_Spent  Browser  Newsletter  Voucher  \n",
       "0          24.915           1         885        0           0        0  \n",
       "1           2.896           2         656        0           0        1  \n",
       "2          10.600           0         761        0           1        0  \n",
       "3          43.280           1         906        0           1        0  \n",
       "4          56.900           1         605        0           1        0  "
      ]
     },
     "execution_count": 7,
     "metadata": {},
     "output_type": "execute_result"
    }
   ],
   "source": [
    "df.head()"
   ]
  },
  {
   "cell_type": "code",
   "execution_count": 8,
   "id": "cde65819",
   "metadata": {
    "scrolled": true
   },
   "outputs": [
    {
     "data": {
      "text/plain": [
       "Customer_id       0\n",
       "Age               0\n",
       "Gender            0\n",
       "Revenue_Total     0\n",
       "N_Purchases       0\n",
       "Purchase_DATE     0\n",
       "Purchase_VALUE    0\n",
       "Pay_Method        0\n",
       "Time_Spent        0\n",
       "Browser           0\n",
       "Newsletter        0\n",
       "Voucher           0\n",
       "dtype: int64"
      ]
     },
     "execution_count": 8,
     "metadata": {},
     "output_type": "execute_result"
    }
   ],
   "source": [
    "df.isnull().sum() #удивительно, но в данных нет пропусков..."
   ]
  },
  {
   "cell_type": "code",
   "execution_count": 9,
   "id": "29eeff5a",
   "metadata": {},
   "outputs": [
    {
     "data": {
      "text/plain": [
       "Customer_id         int64\n",
       "Age                 int64\n",
       "Gender              int64\n",
       "Revenue_Total     float64\n",
       "N_Purchases         int64\n",
       "Purchase_DATE      object\n",
       "Purchase_VALUE    float64\n",
       "Pay_Method          int64\n",
       "Time_Spent          int64\n",
       "Browser             int64\n",
       "Newsletter          int64\n",
       "Voucher             int64\n",
       "dtype: object"
      ]
     },
     "execution_count": 9,
     "metadata": {},
     "output_type": "execute_result"
    }
   ],
   "source": [
    "df.dtypes"
   ]
  },
  {
   "cell_type": "code",
   "execution_count": 10,
   "id": "1a80c24f",
   "metadata": {},
   "outputs": [
    {
     "data": {
      "text/html": [
       "<div>\n",
       "<style scoped>\n",
       "    .dataframe tbody tr th:only-of-type {\n",
       "        vertical-align: middle;\n",
       "    }\n",
       "\n",
       "    .dataframe tbody tr th {\n",
       "        vertical-align: top;\n",
       "    }\n",
       "\n",
       "    .dataframe thead th {\n",
       "        text-align: right;\n",
       "    }\n",
       "</style>\n",
       "<table border=\"1\" class=\"dataframe\">\n",
       "  <thead>\n",
       "    <tr style=\"text-align: right;\">\n",
       "      <th></th>\n",
       "      <th>Customer_id</th>\n",
       "      <th>Age</th>\n",
       "      <th>Gender</th>\n",
       "      <th>Revenue_Total</th>\n",
       "      <th>N_Purchases</th>\n",
       "      <th>Purchase_VALUE</th>\n",
       "      <th>Pay_Method</th>\n",
       "      <th>Time_Spent</th>\n",
       "      <th>Browser</th>\n",
       "      <th>Newsletter</th>\n",
       "      <th>Voucher</th>\n",
       "    </tr>\n",
       "  </thead>\n",
       "  <tbody>\n",
       "    <tr>\n",
       "      <th>count</th>\n",
       "      <td>65796.000000</td>\n",
       "      <td>65796.000000</td>\n",
       "      <td>65796.000000</td>\n",
       "      <td>65796.000000</td>\n",
       "      <td>65796.000000</td>\n",
       "      <td>65796.000000</td>\n",
       "      <td>65796.000000</td>\n",
       "      <td>65796.000000</td>\n",
       "      <td>65796.000000</td>\n",
       "      <td>65796.000000</td>\n",
       "      <td>65796.000000</td>\n",
       "    </tr>\n",
       "    <tr>\n",
       "      <th>mean</th>\n",
       "      <td>537205.500000</td>\n",
       "      <td>39.592696</td>\n",
       "      <td>0.671348</td>\n",
       "      <td>27.732935</td>\n",
       "      <td>3.992477</td>\n",
       "      <td>15.968699</td>\n",
       "      <td>1.308651</td>\n",
       "      <td>598.925603</td>\n",
       "      <td>0.630935</td>\n",
       "      <td>0.151027</td>\n",
       "      <td>0.250258</td>\n",
       "    </tr>\n",
       "    <tr>\n",
       "      <th>std</th>\n",
       "      <td>18993.813493</td>\n",
       "      <td>13.825466</td>\n",
       "      <td>0.469727</td>\n",
       "      <td>14.941878</td>\n",
       "      <td>2.004370</td>\n",
       "      <td>13.229295</td>\n",
       "      <td>1.081959</td>\n",
       "      <td>277.833635</td>\n",
       "      <td>0.996407</td>\n",
       "      <td>0.358078</td>\n",
       "      <td>0.433165</td>\n",
       "    </tr>\n",
       "    <tr>\n",
       "      <th>min</th>\n",
       "      <td>504308.000000</td>\n",
       "      <td>16.000000</td>\n",
       "      <td>0.000000</td>\n",
       "      <td>0.500000</td>\n",
       "      <td>1.000000</td>\n",
       "      <td>0.005000</td>\n",
       "      <td>0.000000</td>\n",
       "      <td>120.000000</td>\n",
       "      <td>0.000000</td>\n",
       "      <td>0.000000</td>\n",
       "      <td>0.000000</td>\n",
       "    </tr>\n",
       "    <tr>\n",
       "      <th>25%</th>\n",
       "      <td>520756.750000</td>\n",
       "      <td>28.000000</td>\n",
       "      <td>0.000000</td>\n",
       "      <td>15.300000</td>\n",
       "      <td>2.000000</td>\n",
       "      <td>4.819750</td>\n",
       "      <td>0.000000</td>\n",
       "      <td>358.000000</td>\n",
       "      <td>0.000000</td>\n",
       "      <td>0.000000</td>\n",
       "      <td>0.000000</td>\n",
       "    </tr>\n",
       "    <tr>\n",
       "      <th>50%</th>\n",
       "      <td>537205.500000</td>\n",
       "      <td>40.000000</td>\n",
       "      <td>1.000000</td>\n",
       "      <td>30.100000</td>\n",
       "      <td>4.000000</td>\n",
       "      <td>12.640000</td>\n",
       "      <td>1.000000</td>\n",
       "      <td>598.000000</td>\n",
       "      <td>0.000000</td>\n",
       "      <td>0.000000</td>\n",
       "      <td>0.000000</td>\n",
       "    </tr>\n",
       "    <tr>\n",
       "      <th>75%</th>\n",
       "      <td>553654.250000</td>\n",
       "      <td>51.000000</td>\n",
       "      <td>1.000000</td>\n",
       "      <td>37.600000</td>\n",
       "      <td>6.000000</td>\n",
       "      <td>24.752000</td>\n",
       "      <td>2.000000</td>\n",
       "      <td>840.000000</td>\n",
       "      <td>1.000000</td>\n",
       "      <td>0.000000</td>\n",
       "      <td>1.000000</td>\n",
       "    </tr>\n",
       "    <tr>\n",
       "      <th>max</th>\n",
       "      <td>570103.000000</td>\n",
       "      <td>63.000000</td>\n",
       "      <td>1.000000</td>\n",
       "      <td>59.900000</td>\n",
       "      <td>7.000000</td>\n",
       "      <td>59.900000</td>\n",
       "      <td>3.000000</td>\n",
       "      <td>1080.000000</td>\n",
       "      <td>3.000000</td>\n",
       "      <td>1.000000</td>\n",
       "      <td>1.000000</td>\n",
       "    </tr>\n",
       "  </tbody>\n",
       "</table>\n",
       "</div>"
      ],
      "text/plain": [
       "         Customer_id           Age        Gender  Revenue_Total   N_Purchases  \\\n",
       "count   65796.000000  65796.000000  65796.000000   65796.000000  65796.000000   \n",
       "mean   537205.500000     39.592696      0.671348      27.732935      3.992477   \n",
       "std     18993.813493     13.825466      0.469727      14.941878      2.004370   \n",
       "min    504308.000000     16.000000      0.000000       0.500000      1.000000   \n",
       "25%    520756.750000     28.000000      0.000000      15.300000      2.000000   \n",
       "50%    537205.500000     40.000000      1.000000      30.100000      4.000000   \n",
       "75%    553654.250000     51.000000      1.000000      37.600000      6.000000   \n",
       "max    570103.000000     63.000000      1.000000      59.900000      7.000000   \n",
       "\n",
       "       Purchase_VALUE    Pay_Method    Time_Spent       Browser    Newsletter  \\\n",
       "count    65796.000000  65796.000000  65796.000000  65796.000000  65796.000000   \n",
       "mean        15.968699      1.308651    598.925603      0.630935      0.151027   \n",
       "std         13.229295      1.081959    277.833635      0.996407      0.358078   \n",
       "min          0.005000      0.000000    120.000000      0.000000      0.000000   \n",
       "25%          4.819750      0.000000    358.000000      0.000000      0.000000   \n",
       "50%         12.640000      1.000000    598.000000      0.000000      0.000000   \n",
       "75%         24.752000      2.000000    840.000000      1.000000      0.000000   \n",
       "max         59.900000      3.000000   1080.000000      3.000000      1.000000   \n",
       "\n",
       "            Voucher  \n",
       "count  65796.000000  \n",
       "mean       0.250258  \n",
       "std        0.433165  \n",
       "min        0.000000  \n",
       "25%        0.000000  \n",
       "50%        0.000000  \n",
       "75%        1.000000  \n",
       "max        1.000000  "
      ]
     },
     "execution_count": 10,
     "metadata": {},
     "output_type": "execute_result"
    }
   ],
   "source": [
    "df.describe()"
   ]
  },
  {
   "cell_type": "code",
   "execution_count": 12,
   "id": "38c6a4ce",
   "metadata": {},
   "outputs": [
    {
     "data": {
      "text/plain": [
       "1    9519\n",
       "2    9427\n",
       "3    9426\n",
       "7    9418\n",
       "5    9408\n",
       "6    9340\n",
       "4    9258\n",
       "Name: N_Purchases, dtype: int64"
      ]
     },
     "execution_count": 12,
     "metadata": {},
     "output_type": "execute_result"
    }
   ],
   "source": [
    "df['N_Purchases'].value_counts()"
   ]
  },
  {
   "cell_type": "code",
   "execution_count": 13,
   "id": "797a94be",
   "metadata": {},
   "outputs": [
    {
     "data": {
      "text/plain": [
       "0    42076\n",
       "1    13135\n",
       "3     7208\n",
       "2     3377\n",
       "Name: Browser, dtype: int64"
      ]
     },
     "execution_count": 13,
     "metadata": {},
     "output_type": "execute_result"
    }
   ],
   "source": [
    "df['Browser'].value_counts()"
   ]
  },
  {
   "cell_type": "code",
   "execution_count": 17,
   "id": "799ed6f9",
   "metadata": {
    "scrolled": true
   },
   "outputs": [
    {
     "data": {
      "text/html": [
       "<div>\n",
       "<style scoped>\n",
       "    .dataframe tbody tr th:only-of-type {\n",
       "        vertical-align: middle;\n",
       "    }\n",
       "\n",
       "    .dataframe tbody tr th {\n",
       "        vertical-align: top;\n",
       "    }\n",
       "\n",
       "    .dataframe thead th {\n",
       "        text-align: right;\n",
       "    }\n",
       "</style>\n",
       "<table border=\"1\" class=\"dataframe\">\n",
       "  <thead>\n",
       "    <tr style=\"text-align: right;\">\n",
       "      <th></th>\n",
       "      <th>Browser</th>\n",
       "      <th>N_Purchases</th>\n",
       "      <th>Customer_id</th>\n",
       "    </tr>\n",
       "  </thead>\n",
       "  <tbody>\n",
       "    <tr>\n",
       "      <th>0</th>\n",
       "      <td>0</td>\n",
       "      <td>1</td>\n",
       "      <td>6158</td>\n",
       "    </tr>\n",
       "    <tr>\n",
       "      <th>1</th>\n",
       "      <td>0</td>\n",
       "      <td>2</td>\n",
       "      <td>6022</td>\n",
       "    </tr>\n",
       "    <tr>\n",
       "      <th>2</th>\n",
       "      <td>0</td>\n",
       "      <td>3</td>\n",
       "      <td>6038</td>\n",
       "    </tr>\n",
       "    <tr>\n",
       "      <th>3</th>\n",
       "      <td>0</td>\n",
       "      <td>4</td>\n",
       "      <td>5985</td>\n",
       "    </tr>\n",
       "    <tr>\n",
       "      <th>4</th>\n",
       "      <td>0</td>\n",
       "      <td>5</td>\n",
       "      <td>5920</td>\n",
       "    </tr>\n",
       "    <tr>\n",
       "      <th>5</th>\n",
       "      <td>0</td>\n",
       "      <td>6</td>\n",
       "      <td>5995</td>\n",
       "    </tr>\n",
       "    <tr>\n",
       "      <th>6</th>\n",
       "      <td>0</td>\n",
       "      <td>7</td>\n",
       "      <td>5958</td>\n",
       "    </tr>\n",
       "    <tr>\n",
       "      <th>7</th>\n",
       "      <td>1</td>\n",
       "      <td>1</td>\n",
       "      <td>1896</td>\n",
       "    </tr>\n",
       "    <tr>\n",
       "      <th>8</th>\n",
       "      <td>1</td>\n",
       "      <td>2</td>\n",
       "      <td>1887</td>\n",
       "    </tr>\n",
       "    <tr>\n",
       "      <th>9</th>\n",
       "      <td>1</td>\n",
       "      <td>3</td>\n",
       "      <td>1884</td>\n",
       "    </tr>\n",
       "    <tr>\n",
       "      <th>10</th>\n",
       "      <td>1</td>\n",
       "      <td>4</td>\n",
       "      <td>1822</td>\n",
       "    </tr>\n",
       "    <tr>\n",
       "      <th>11</th>\n",
       "      <td>1</td>\n",
       "      <td>5</td>\n",
       "      <td>1941</td>\n",
       "    </tr>\n",
       "    <tr>\n",
       "      <th>12</th>\n",
       "      <td>1</td>\n",
       "      <td>6</td>\n",
       "      <td>1794</td>\n",
       "    </tr>\n",
       "    <tr>\n",
       "      <th>13</th>\n",
       "      <td>1</td>\n",
       "      <td>7</td>\n",
       "      <td>1911</td>\n",
       "    </tr>\n",
       "    <tr>\n",
       "      <th>14</th>\n",
       "      <td>2</td>\n",
       "      <td>1</td>\n",
       "      <td>478</td>\n",
       "    </tr>\n",
       "    <tr>\n",
       "      <th>15</th>\n",
       "      <td>2</td>\n",
       "      <td>2</td>\n",
       "      <td>482</td>\n",
       "    </tr>\n",
       "    <tr>\n",
       "      <th>16</th>\n",
       "      <td>2</td>\n",
       "      <td>3</td>\n",
       "      <td>488</td>\n",
       "    </tr>\n",
       "    <tr>\n",
       "      <th>17</th>\n",
       "      <td>2</td>\n",
       "      <td>4</td>\n",
       "      <td>450</td>\n",
       "    </tr>\n",
       "    <tr>\n",
       "      <th>18</th>\n",
       "      <td>2</td>\n",
       "      <td>5</td>\n",
       "      <td>499</td>\n",
       "    </tr>\n",
       "    <tr>\n",
       "      <th>19</th>\n",
       "      <td>2</td>\n",
       "      <td>6</td>\n",
       "      <td>511</td>\n",
       "    </tr>\n",
       "    <tr>\n",
       "      <th>20</th>\n",
       "      <td>2</td>\n",
       "      <td>7</td>\n",
       "      <td>469</td>\n",
       "    </tr>\n",
       "    <tr>\n",
       "      <th>21</th>\n",
       "      <td>3</td>\n",
       "      <td>1</td>\n",
       "      <td>987</td>\n",
       "    </tr>\n",
       "    <tr>\n",
       "      <th>22</th>\n",
       "      <td>3</td>\n",
       "      <td>2</td>\n",
       "      <td>1036</td>\n",
       "    </tr>\n",
       "    <tr>\n",
       "      <th>23</th>\n",
       "      <td>3</td>\n",
       "      <td>3</td>\n",
       "      <td>1016</td>\n",
       "    </tr>\n",
       "    <tr>\n",
       "      <th>24</th>\n",
       "      <td>3</td>\n",
       "      <td>4</td>\n",
       "      <td>1001</td>\n",
       "    </tr>\n",
       "    <tr>\n",
       "      <th>25</th>\n",
       "      <td>3</td>\n",
       "      <td>5</td>\n",
       "      <td>1048</td>\n",
       "    </tr>\n",
       "    <tr>\n",
       "      <th>26</th>\n",
       "      <td>3</td>\n",
       "      <td>6</td>\n",
       "      <td>1040</td>\n",
       "    </tr>\n",
       "    <tr>\n",
       "      <th>27</th>\n",
       "      <td>3</td>\n",
       "      <td>7</td>\n",
       "      <td>1080</td>\n",
       "    </tr>\n",
       "  </tbody>\n",
       "</table>\n",
       "</div>"
      ],
      "text/plain": [
       "    Browser  N_Purchases  Customer_id\n",
       "0         0            1         6158\n",
       "1         0            2         6022\n",
       "2         0            3         6038\n",
       "3         0            4         5985\n",
       "4         0            5         5920\n",
       "5         0            6         5995\n",
       "6         0            7         5958\n",
       "7         1            1         1896\n",
       "8         1            2         1887\n",
       "9         1            3         1884\n",
       "10        1            4         1822\n",
       "11        1            5         1941\n",
       "12        1            6         1794\n",
       "13        1            7         1911\n",
       "14        2            1          478\n",
       "15        2            2          482\n",
       "16        2            3          488\n",
       "17        2            4          450\n",
       "18        2            5          499\n",
       "19        2            6          511\n",
       "20        2            7          469\n",
       "21        3            1          987\n",
       "22        3            2         1036\n",
       "23        3            3         1016\n",
       "24        3            4         1001\n",
       "25        3            5         1048\n",
       "26        3            6         1040\n",
       "27        3            7         1080"
      ]
     },
     "execution_count": 17,
     "metadata": {},
     "output_type": "execute_result"
    }
   ],
   "source": [
    "df.groupby(['Browser', 'N_Purchases'], as_index=False)['Customer_id'].count() "
   ]
  },
  {
   "cell_type": "markdown",
   "id": "e297dea4",
   "metadata": {},
   "source": [
    "В каждом из браузеров примерное равное количество Customer_id приходится на разное количество покупок, хочется сделать вывод, что распределение браузеров в разре N_Purchases равномерное"
   ]
  },
  {
   "cell_type": "code",
   "execution_count": 20,
   "id": "748980a1",
   "metadata": {},
   "outputs": [
    {
     "data": {
      "image/png": "[encoded data removed]",
      "text/plain": [
       "<Figure size 432x288 with 1 Axes>"
      ]
     },
     "metadata": {
      "needs_background": "light"
     },
     "output_type": "display_data"
    }
   ],
   "source": [
    "plt.scatter(df['N_Purchases'], df['Browser'])\n",
    "plt.xlabel('N_Purchases')\n",
    "plt.ylabel('Browser')\n",
    "plt.title('Диаграмма рассеяния')\n",
    "plt.show()"
   ]
  },
  {
   "cell_type": "code",
   "execution_count": 21,
   "id": "dbdb5775",
   "metadata": {},
   "outputs": [
    {
     "data": {
      "image/png": "[encoded data removed]",
      "text/plain": [
       "<Figure size 408.375x360 with 1 Axes>"
      ]
     },
     "metadata": {
      "needs_background": "light"
     },
     "output_type": "display_data"
    }
   ],
   "source": [
    "import matplotlib.pyplot as plt\n",
    "sns.displot(data=df, x='N_Purchases', hue='Browser', kind='kde')\n",
    "plt.xlabel('N_Purchases')\n",
    "plt.ylabel('Density')\n",
    "plt.show()"
   ]
  },
  {
   "cell_type": "code",
   "execution_count": 23,
   "id": "843e8b13",
   "metadata": {},
   "outputs": [
    {
     "data": {
      "text/plain": [
       "0    55859\n",
       "1     9937\n",
       "Name: Newsletter, dtype: int64"
      ]
     },
     "execution_count": 23,
     "metadata": {},
     "output_type": "execute_result"
    }
   ],
   "source": [
    "df['Newsletter'].value_counts()"
   ]
  },
  {
   "cell_type": "code",
   "execution_count": 24,
   "id": "f6c9cceb",
   "metadata": {},
   "outputs": [
    {
     "data": {
      "text/html": [
       "<div>\n",
       "<style scoped>\n",
       "    .dataframe tbody tr th:only-of-type {\n",
       "        vertical-align: middle;\n",
       "    }\n",
       "\n",
       "    .dataframe tbody tr th {\n",
       "        vertical-align: top;\n",
       "    }\n",
       "\n",
       "    .dataframe thead th {\n",
       "        text-align: right;\n",
       "    }\n",
       "</style>\n",
       "<table border=\"1\" class=\"dataframe\">\n",
       "  <thead>\n",
       "    <tr style=\"text-align: right;\">\n",
       "      <th></th>\n",
       "      <th>Newsletter</th>\n",
       "      <th>N_Purchases</th>\n",
       "      <th>Customer_id</th>\n",
       "    </tr>\n",
       "  </thead>\n",
       "  <tbody>\n",
       "    <tr>\n",
       "      <th>0</th>\n",
       "      <td>0</td>\n",
       "      <td>1</td>\n",
       "      <td>8096</td>\n",
       "    </tr>\n",
       "    <tr>\n",
       "      <th>1</th>\n",
       "      <td>0</td>\n",
       "      <td>2</td>\n",
       "      <td>7972</td>\n",
       "    </tr>\n",
       "    <tr>\n",
       "      <th>2</th>\n",
       "      <td>0</td>\n",
       "      <td>3</td>\n",
       "      <td>7989</td>\n",
       "    </tr>\n",
       "    <tr>\n",
       "      <th>3</th>\n",
       "      <td>0</td>\n",
       "      <td>4</td>\n",
       "      <td>7875</td>\n",
       "    </tr>\n",
       "    <tr>\n",
       "      <th>4</th>\n",
       "      <td>0</td>\n",
       "      <td>5</td>\n",
       "      <td>7979</td>\n",
       "    </tr>\n",
       "    <tr>\n",
       "      <th>5</th>\n",
       "      <td>0</td>\n",
       "      <td>6</td>\n",
       "      <td>7947</td>\n",
       "    </tr>\n",
       "    <tr>\n",
       "      <th>6</th>\n",
       "      <td>0</td>\n",
       "      <td>7</td>\n",
       "      <td>8001</td>\n",
       "    </tr>\n",
       "    <tr>\n",
       "      <th>7</th>\n",
       "      <td>1</td>\n",
       "      <td>1</td>\n",
       "      <td>1423</td>\n",
       "    </tr>\n",
       "    <tr>\n",
       "      <th>8</th>\n",
       "      <td>1</td>\n",
       "      <td>2</td>\n",
       "      <td>1455</td>\n",
       "    </tr>\n",
       "    <tr>\n",
       "      <th>9</th>\n",
       "      <td>1</td>\n",
       "      <td>3</td>\n",
       "      <td>1437</td>\n",
       "    </tr>\n",
       "    <tr>\n",
       "      <th>10</th>\n",
       "      <td>1</td>\n",
       "      <td>4</td>\n",
       "      <td>1383</td>\n",
       "    </tr>\n",
       "    <tr>\n",
       "      <th>11</th>\n",
       "      <td>1</td>\n",
       "      <td>5</td>\n",
       "      <td>1429</td>\n",
       "    </tr>\n",
       "    <tr>\n",
       "      <th>12</th>\n",
       "      <td>1</td>\n",
       "      <td>6</td>\n",
       "      <td>1393</td>\n",
       "    </tr>\n",
       "    <tr>\n",
       "      <th>13</th>\n",
       "      <td>1</td>\n",
       "      <td>7</td>\n",
       "      <td>1417</td>\n",
       "    </tr>\n",
       "  </tbody>\n",
       "</table>\n",
       "</div>"
      ],
      "text/plain": [
       "    Newsletter  N_Purchases  Customer_id\n",
       "0            0            1         8096\n",
       "1            0            2         7972\n",
       "2            0            3         7989\n",
       "3            0            4         7875\n",
       "4            0            5         7979\n",
       "5            0            6         7947\n",
       "6            0            7         8001\n",
       "7            1            1         1423\n",
       "8            1            2         1455\n",
       "9            1            3         1437\n",
       "10           1            4         1383\n",
       "11           1            5         1429\n",
       "12           1            6         1393\n",
       "13           1            7         1417"
      ]
     },
     "execution_count": 24,
     "metadata": {},
     "output_type": "execute_result"
    }
   ],
   "source": [
    "df.groupby(['Newsletter', 'N_Purchases'], as_index=False)['Customer_id'].count() "
   ]
  },
  {
   "cell_type": "code",
   "execution_count": 25,
   "id": "49e32b77",
   "metadata": {},
   "outputs": [
    {
     "data": {
      "image/png": "[encoded data removed]",
      "text/plain": [
       "<Figure size 422x360 with 1 Axes>"
      ]
     },
     "metadata": {
      "needs_background": "light"
     },
     "output_type": "display_data"
    }
   ],
   "source": [
    "sns.displot(data=df, x='N_Purchases', hue='Newsletter', kind='kde')\n",
    "plt.xlabel('N_Purchases')\n",
    "plt.ylabel('Newsletter')\n",
    "plt.show()"
   ]
  },
  {
   "cell_type": "code",
   "execution_count": 26,
   "id": "30f24220",
   "metadata": {},
   "outputs": [
    {
     "data": {
      "text/plain": [
       "0    49330\n",
       "1    16466\n",
       "Name: Voucher, dtype: int64"
      ]
     },
     "execution_count": 26,
     "metadata": {},
     "output_type": "execute_result"
    }
   ],
   "source": [
    "df['Voucher'].value_counts()"
   ]
  },
  {
   "cell_type": "code",
   "execution_count": 27,
   "id": "91c7fa53",
   "metadata": {},
   "outputs": [
    {
     "data": {
      "text/html": [
       "<div>\n",
       "<style scoped>\n",
       "    .dataframe tbody tr th:only-of-type {\n",
       "        vertical-align: middle;\n",
       "    }\n",
       "\n",
       "    .dataframe tbody tr th {\n",
       "        vertical-align: top;\n",
       "    }\n",
       "\n",
       "    .dataframe thead th {\n",
       "        text-align: right;\n",
       "    }\n",
       "</style>\n",
       "<table border=\"1\" class=\"dataframe\">\n",
       "  <thead>\n",
       "    <tr style=\"text-align: right;\">\n",
       "      <th></th>\n",
       "      <th>Voucher</th>\n",
       "      <th>N_Purchases</th>\n",
       "      <th>Customer_id</th>\n",
       "    </tr>\n",
       "  </thead>\n",
       "  <tbody>\n",
       "    <tr>\n",
       "      <th>0</th>\n",
       "      <td>0</td>\n",
       "      <td>1</td>\n",
       "      <td>7099</td>\n",
       "    </tr>\n",
       "    <tr>\n",
       "      <th>1</th>\n",
       "      <td>0</td>\n",
       "      <td>2</td>\n",
       "      <td>7033</td>\n",
       "    </tr>\n",
       "    <tr>\n",
       "      <th>2</th>\n",
       "      <td>0</td>\n",
       "      <td>3</td>\n",
       "      <td>7090</td>\n",
       "    </tr>\n",
       "    <tr>\n",
       "      <th>3</th>\n",
       "      <td>0</td>\n",
       "      <td>4</td>\n",
       "      <td>6958</td>\n",
       "    </tr>\n",
       "    <tr>\n",
       "      <th>4</th>\n",
       "      <td>0</td>\n",
       "      <td>5</td>\n",
       "      <td>7073</td>\n",
       "    </tr>\n",
       "    <tr>\n",
       "      <th>5</th>\n",
       "      <td>0</td>\n",
       "      <td>6</td>\n",
       "      <td>6966</td>\n",
       "    </tr>\n",
       "    <tr>\n",
       "      <th>6</th>\n",
       "      <td>0</td>\n",
       "      <td>7</td>\n",
       "      <td>7111</td>\n",
       "    </tr>\n",
       "    <tr>\n",
       "      <th>7</th>\n",
       "      <td>1</td>\n",
       "      <td>1</td>\n",
       "      <td>2420</td>\n",
       "    </tr>\n",
       "    <tr>\n",
       "      <th>8</th>\n",
       "      <td>1</td>\n",
       "      <td>2</td>\n",
       "      <td>2394</td>\n",
       "    </tr>\n",
       "    <tr>\n",
       "      <th>9</th>\n",
       "      <td>1</td>\n",
       "      <td>3</td>\n",
       "      <td>2336</td>\n",
       "    </tr>\n",
       "    <tr>\n",
       "      <th>10</th>\n",
       "      <td>1</td>\n",
       "      <td>4</td>\n",
       "      <td>2300</td>\n",
       "    </tr>\n",
       "    <tr>\n",
       "      <th>11</th>\n",
       "      <td>1</td>\n",
       "      <td>5</td>\n",
       "      <td>2335</td>\n",
       "    </tr>\n",
       "    <tr>\n",
       "      <th>12</th>\n",
       "      <td>1</td>\n",
       "      <td>6</td>\n",
       "      <td>2374</td>\n",
       "    </tr>\n",
       "    <tr>\n",
       "      <th>13</th>\n",
       "      <td>1</td>\n",
       "      <td>7</td>\n",
       "      <td>2307</td>\n",
       "    </tr>\n",
       "  </tbody>\n",
       "</table>\n",
       "</div>"
      ],
      "text/plain": [
       "    Voucher  N_Purchases  Customer_id\n",
       "0         0            1         7099\n",
       "1         0            2         7033\n",
       "2         0            3         7090\n",
       "3         0            4         6958\n",
       "4         0            5         7073\n",
       "5         0            6         6966\n",
       "6         0            7         7111\n",
       "7         1            1         2420\n",
       "8         1            2         2394\n",
       "9         1            3         2336\n",
       "10        1            4         2300\n",
       "11        1            5         2335\n",
       "12        1            6         2374\n",
       "13        1            7         2307"
      ]
     },
     "execution_count": 27,
     "metadata": {},
     "output_type": "execute_result"
    }
   ],
   "source": [
    "df.groupby(['Voucher', 'N_Purchases'], as_index=False)['Customer_id'].count()"
   ]
  },
  {
   "cell_type": "code",
   "execution_count": 28,
   "id": "5d7f4487",
   "metadata": {},
   "outputs": [
    {
     "data": {
      "image/png": "[encoded data removed]",
      "text/plain": [
       "<Figure size 408.625x360 with 1 Axes>"
      ]
     },
     "metadata": {
      "needs_background": "light"
     },
     "output_type": "display_data"
    }
   ],
   "source": [
    "sns.displot(data=df, x='N_Purchases', hue='Voucher', kind='kde')\n",
    "plt.xlabel('N_Purchases')\n",
    "plt.ylabel('Voucher')\n",
    "plt.show()"
   ]
  },
  {
   "cell_type": "markdown",
   "id": "dfb1ed76",
   "metadata": {},
   "source": [
    "У трёх факторов, рассмотренных выше (Newsletter, Browser, Voucher) распределение в разрезе N_Purchases равномерное, это говорит о том, что вряд ли возможно сделать вывод о влиянии/эффективности новостной рассылки, выбранного браузера или наличия ваучера. \n",
    "\n",
    "Поэтому предположение о том, что рассылка/ваучер/браузер способствует увеличению  числа покупок, не одтверждается. \n",
    "\n",
    "Получаются слишком красивые распределения и складывается ощущение, что данные синтетические. Поэтому я проведу анализ, выполню все действия, с намерением на то, что полученные навыки анализа данных онлайн-магазина пригодятся в дальнейшем при работе с моим брендом, а опираться на связи полученные в результате этого проекта в жизни будет опрометчиво, с\n",
    "\n",
    "Тогда попробуем проанализировать следующее: влияние дня недели на активность покупателей, измерим это с помощьюсоздания нового признака на основе даты (поймем, какая покупка пределенным покупателем с его id в какой неделе совершалась) и далее проведем анализ связи между днем недели и числом покупок (N_Purchases) или выручкой с покупки (Revenue_Total)."
   ]
  }
 ],
 "metadata": {
  "kernelspec": {
   "display_name": "Python 3 (ipykernel)",
   "language": "python",
   "name": "python3"
  },
  "language_info": {
   "codemirror_mode": {
    "name": "ipython",
    "version": 3
   },
   "file_extension": ".py",
   "mimetype": "text/x-python",
   "name": "python",
   "nbconvert_exporter": "python",
   "pygments_lexer": "ipython3",
   "version": "3.9.7"
  }
 },
 "nbformat": 4,
 "nbformat_minor": 5
}
